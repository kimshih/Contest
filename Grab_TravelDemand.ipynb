{
 "cells": [
  {
   "cell_type": "code",
   "execution_count": 1,
   "metadata": {},
   "outputs": [],
   "source": [
    "# 做完特徵工程前的所有準備\n",
    "import pandas as pd\n",
    "import numpy as np\n",
    "import copy\n",
    "from sklearn.preprocessing import LabelEncoder, OneHotEncoder, MinMaxScaler \n",
    "from sklearn.model_selection import cross_val_score\n",
    "from sklearn.linear_model import LogisticRegression, LinearRegression\n",
    "from sklearn.ensemble import GradientBoostingRegressor\n",
    "from sklearn.model_selection import train_test_split\n",
    "import warnings\n",
    "warnings.filterwarnings('ignore')"
   ]
  },
  {
   "cell_type": "markdown",
   "metadata": {},
   "source": [
    "### Load the Training and Testing data, please kindly help to change the \"testing.csv\" to the testing data file name"
   ]
  },
  {
   "cell_type": "code",
   "execution_count": 2,
   "metadata": {},
   "outputs": [],
   "source": [
    "import geohash2\n",
    "df_train = pd.read_csv('training.csv')\n",
    "\n",
    "#Please kindly help to modify the filename of testing data\n",
    "df_test = pd.read_csv('testing.csv')\n",
    "\n",
    "train_Y = df_train['demand']\n",
    "df_train = df_train.drop(['demand'] , axis=1)\n",
    "\n",
    "df = pd.concat([df_train, df_test])"
   ]
  },
  {
   "cell_type": "code",
   "execution_count": 3,
   "metadata": {},
   "outputs": [],
   "source": [
    "train_num = train_Y.shape[0]"
   ]
  },
  {
   "cell_type": "markdown",
   "metadata": {},
   "source": [
    "### Feature Engineering\n",
    "* geohash6 -> longitude and latitude\n",
    "* Use (lon, lat) doing cluster\n"
   ]
  },
  {
   "cell_type": "code",
   "execution_count": 5,
   "metadata": {},
   "outputs": [
    {
     "data": {
      "text/plain": [
       "<Figure size 1000x500 with 1 Axes>"
      ]
     },
     "metadata": {},
     "output_type": "display_data"
    }
   ],
   "source": [
    "df['latitude'] = df['geohash6'].apply(lambda x: geohash2.decode(x)[0]).astype('float')\n",
    "df['longitude'] = df['geohash6'].apply(lambda x: geohash2.decode(x)[1]).astype('float')\n",
    "\n",
    "#Kmeans lon,lat\n",
    "from sklearn.cluster import KMeans\n",
    "import matplotlib.pyplot as plt\n",
    "\n",
    "kmeans = KMeans(n_clusters=10).fit(df[['latitude', 'longitude']])\n",
    "df['cluster_n'] = kmeans.labels_\n",
    "\n",
    "fig = plt.figure(figsize=(10, 5))\n",
    "x = np.array(df['longitude'])\n",
    "y = np.array(df['latitude'])\n",
    "\n",
    "colors = ['b', 'g', 'r', 'c', 'm', 'y', 'k', 'aqua', 'brown', 'darkblue']\n",
    "#print color\n",
    "for i,c in enumerate(df['cluster_n'][:500]):\n",
    "    plt.scatter(x[i], y[i], c=colors[c], alpha=0.5)\n",
    "plt.show()"
   ]
  },
  {
   "cell_type": "markdown",
   "metadata": {},
   "source": [
    "* use PCA method transform longitude and latitude"
   ]
  },
  {
   "cell_type": "code",
   "execution_count": 6,
   "metadata": {},
   "outputs": [],
   "source": [
    "from sklearn.decomposition import PCA\n",
    "test = np.vstack(df[['latitude', 'longitude']].values)\n",
    "pca = PCA().fit(test)\n",
    "df['lat_pca0'] = pca.transform(df[['latitude', 'longitude']])[:, 0]\n",
    "df['lon_pca1'] = pca.transform(df[['latitude', 'longitude']])[:, 1]"
   ]
  },
  {
   "cell_type": "markdown",
   "metadata": {},
   "source": [
    "* Doing feature engineering on column 'timestamp'\n",
    "* seperate it to 'weekday' 'hour' 'minute' 'time'\n",
    "* Doing feature combination of time\n",
    "* transform time to cycle"
   ]
  },
  {
   "cell_type": "code",
   "execution_count": 7,
   "metadata": {},
   "outputs": [],
   "source": [
    "# feature engineering of timestamp\n",
    "df['weekday'] = df['day']%7 + 1\n",
    "df['hour'] = df['timestamp'].str.split(\":\", expand=True)[0].astype('int64')\n",
    "df['minute'] = df['timestamp'].str.split(\":\", expand=True)[1].astype('int64')\n",
    "df['time'] = df['hour']+df['minute']/60\n",
    "\n",
    "# slice to time_grp\n",
    "df['time_grp'] = pd.cut(df['time'], [0, 3, 6, 9, 12, 15, 18, 21, 24],include_lowest=True)\n",
    "\n",
    "# weekday x time combination\n",
    "df['wd_time_multiple'] = df['weekday'] * df['time']\n",
    "df['wd_time_division'] = df['time']/df['weekday'] \n",
    "df['time_cluster'] = df['wd_time_multiple'] * df['cluster_n']\n",
    "\n",
    "# time cycle\n",
    "import math\n",
    "df['day_cycle'] = df['hour']/12 + df['minute']/720\n",
    "df['day_cycle'] = df['day_cycle'].map(lambda x:math.sin(x*math.pi))\n",
    "\n",
    "df['week_cycle'] = df['weekday']/3.5 + df['hour']/84\n",
    "df['week_cycle'] = df['week_cycle'].map(lambda x:math.sin(x*math.pi))"
   ]
  },
  {
   "cell_type": "markdown",
   "metadata": {},
   "source": [
    "### Tableau Visualization\n",
    "* please refer to Travel Analysis_Kim.twbx\n",
    "* use transformed data to discover area and time with high demand"
   ]
  },
  {
   "cell_type": "markdown",
   "metadata": {},
   "source": [
    "* 'weekday' and 'time_grp' use mean encoder"
   ]
  },
  {
   "cell_type": "code",
   "execution_count": 8,
   "metadata": {},
   "outputs": [],
   "source": [
    "#weekday and time: mean_encoder\n",
    "data_train = pd.concat([df[:train_num], train_Y], axis=1)\n",
    "\n",
    "mean_df = data_train.groupby(['weekday'])['demand'].mean().reset_index()\n",
    "mean_df.columns = ['weekday', 'weekday_mean']\n",
    "data = pd.merge(df, mean_df, on='weekday', how='left')\n",
    "#data 是train+test\n",
    "\n",
    "mean_df = data_train.groupby(['time_grp'])['demand'].mean().reset_index()\n",
    "mean_df.columns = ['time_grp', 'time_mean']\n",
    "data = pd.merge(data, mean_df, on='time_grp', how='left')\n",
    "\n",
    "data.drop(['timestamp','geohash6','time_grp'], axis=1, inplace=True)\n",
    "data_train = pd.concat([data[:train_num], train_Y], axis=1)\n",
    "#data_train = X+Y"
   ]
  },
  {
   "cell_type": "code",
   "execution_count": 9,
   "metadata": {},
   "outputs": [
    {
     "data": {
      "text/html": [
       "<div>\n",
       "<style scoped>\n",
       "    .dataframe tbody tr th:only-of-type {\n",
       "        vertical-align: middle;\n",
       "    }\n",
       "\n",
       "    .dataframe tbody tr th {\n",
       "        vertical-align: top;\n",
       "    }\n",
       "\n",
       "    .dataframe thead th {\n",
       "        text-align: right;\n",
       "    }\n",
       "</style>\n",
       "<table border=\"1\" class=\"dataframe\">\n",
       "  <thead>\n",
       "    <tr style=\"text-align: right;\">\n",
       "      <th></th>\n",
       "      <th>day</th>\n",
       "      <th>latitude</th>\n",
       "      <th>longitude</th>\n",
       "      <th>cluster_n</th>\n",
       "      <th>lat_pca0</th>\n",
       "      <th>lon_pca1</th>\n",
       "      <th>weekday</th>\n",
       "      <th>hour</th>\n",
       "      <th>minute</th>\n",
       "      <th>time</th>\n",
       "      <th>wd_time_multiple</th>\n",
       "      <th>wd_time_division</th>\n",
       "      <th>time_cluster</th>\n",
       "      <th>day_cycle</th>\n",
       "      <th>week_cycle</th>\n",
       "      <th>weekday_mean</th>\n",
       "      <th>time_mean</th>\n",
       "      <th>demand</th>\n",
       "    </tr>\n",
       "  </thead>\n",
       "  <tbody>\n",
       "    <tr>\n",
       "      <th>0</th>\n",
       "      <td>18</td>\n",
       "      <td>-5.35</td>\n",
       "      <td>90.7</td>\n",
       "      <td>7</td>\n",
       "      <td>-0.066194</td>\n",
       "      <td>-0.004023</td>\n",
       "      <td>5</td>\n",
       "      <td>20</td>\n",
       "      <td>0</td>\n",
       "      <td>20.00</td>\n",
       "      <td>100.00</td>\n",
       "      <td>4.000000</td>\n",
       "      <td>700.00</td>\n",
       "      <td>-0.866025</td>\n",
       "      <td>-0.866025</td>\n",
       "      <td>0.116981</td>\n",
       "      <td>0.047142</td>\n",
       "      <td>0.020072</td>\n",
       "    </tr>\n",
       "    <tr>\n",
       "      <th>1</th>\n",
       "      <td>10</td>\n",
       "      <td>-5.41</td>\n",
       "      <td>90.7</td>\n",
       "      <td>2</td>\n",
       "      <td>-0.072030</td>\n",
       "      <td>0.055692</td>\n",
       "      <td>4</td>\n",
       "      <td>14</td>\n",
       "      <td>30</td>\n",
       "      <td>14.50</td>\n",
       "      <td>58.00</td>\n",
       "      <td>3.625000</td>\n",
       "      <td>116.00</td>\n",
       "      <td>-0.608761</td>\n",
       "      <td>-0.826239</td>\n",
       "      <td>0.111587</td>\n",
       "      <td>0.115700</td>\n",
       "      <td>0.024721</td>\n",
       "    </tr>\n",
       "    <tr>\n",
       "      <th>2</th>\n",
       "      <td>9</td>\n",
       "      <td>-5.33</td>\n",
       "      <td>90.9</td>\n",
       "      <td>1</td>\n",
       "      <td>0.134803</td>\n",
       "      <td>-0.004474</td>\n",
       "      <td>3</td>\n",
       "      <td>6</td>\n",
       "      <td>15</td>\n",
       "      <td>6.25</td>\n",
       "      <td>18.75</td>\n",
       "      <td>2.083333</td>\n",
       "      <td>18.75</td>\n",
       "      <td>0.997859</td>\n",
       "      <td>0.222521</td>\n",
       "      <td>0.109509</td>\n",
       "      <td>0.124073</td>\n",
       "      <td>0.102821</td>\n",
       "    </tr>\n",
       "    <tr>\n",
       "      <th>3</th>\n",
       "      <td>32</td>\n",
       "      <td>-5.35</td>\n",
       "      <td>90.8</td>\n",
       "      <td>0</td>\n",
       "      <td>0.033332</td>\n",
       "      <td>0.005704</td>\n",
       "      <td>5</td>\n",
       "      <td>5</td>\n",
       "      <td>0</td>\n",
       "      <td>5.00</td>\n",
       "      <td>25.00</td>\n",
       "      <td>1.000000</td>\n",
       "      <td>0.00</td>\n",
       "      <td>0.965926</td>\n",
       "      <td>-0.999301</td>\n",
       "      <td>0.116981</td>\n",
       "      <td>0.116421</td>\n",
       "      <td>0.088755</td>\n",
       "    </tr>\n",
       "    <tr>\n",
       "      <th>4</th>\n",
       "      <td>15</td>\n",
       "      <td>-5.41</td>\n",
       "      <td>90.7</td>\n",
       "      <td>2</td>\n",
       "      <td>-0.072030</td>\n",
       "      <td>0.055692</td>\n",
       "      <td>2</td>\n",
       "      <td>4</td>\n",
       "      <td>0</td>\n",
       "      <td>4.00</td>\n",
       "      <td>8.00</td>\n",
       "      <td>2.000000</td>\n",
       "      <td>16.00</td>\n",
       "      <td>0.866025</td>\n",
       "      <td>0.930874</td>\n",
       "      <td>0.103763</td>\n",
       "      <td>0.116421</td>\n",
       "      <td>0.074468</td>\n",
       "    </tr>\n",
       "  </tbody>\n",
       "</table>\n",
       "</div>"
      ],
      "text/plain": [
       "   day  latitude  longitude  cluster_n  lat_pca0  lon_pca1  weekday  hour  \\\n",
       "0   18     -5.35       90.7          7 -0.066194 -0.004023        5    20   \n",
       "1   10     -5.41       90.7          2 -0.072030  0.055692        4    14   \n",
       "2    9     -5.33       90.9          1  0.134803 -0.004474        3     6   \n",
       "3   32     -5.35       90.8          0  0.033332  0.005704        5     5   \n",
       "4   15     -5.41       90.7          2 -0.072030  0.055692        2     4   \n",
       "\n",
       "   minute   time  wd_time_multiple  wd_time_division  time_cluster  day_cycle  \\\n",
       "0       0  20.00            100.00          4.000000        700.00  -0.866025   \n",
       "1      30  14.50             58.00          3.625000        116.00  -0.608761   \n",
       "2      15   6.25             18.75          2.083333         18.75   0.997859   \n",
       "3       0   5.00             25.00          1.000000          0.00   0.965926   \n",
       "4       0   4.00              8.00          2.000000         16.00   0.866025   \n",
       "\n",
       "   week_cycle  weekday_mean  time_mean    demand  \n",
       "0   -0.866025      0.116981   0.047142  0.020072  \n",
       "1   -0.826239      0.111587   0.115700  0.024721  \n",
       "2    0.222521      0.109509   0.124073  0.102821  \n",
       "3   -0.999301      0.116981   0.116421  0.088755  \n",
       "4    0.930874      0.103763   0.116421  0.074468  "
      ]
     },
     "execution_count": 9,
     "metadata": {},
     "output_type": "execute_result"
    }
   ],
   "source": [
    "data_train.head()"
   ]
  },
  {
   "cell_type": "markdown",
   "metadata": {},
   "source": [
    "### Observe distribution of demand\n",
    "* only 1% data which demand >0.98 -> drop outlier\n",
    "* please also refer to tableau file"
   ]
  },
  {
   "cell_type": "code",
   "execution_count": 12,
   "metadata": {},
   "outputs": [
    {
     "data": {
      "text/plain": [
       "(array([1112058.,  715477.,  490018.,  353930.,  267454.,  207925.,\n",
       "         163400.,  130212.,  105369.,   85821.,   71313.,   58997.,\n",
       "          48963.,   41423.,   35367.,   30047.,   25494.,   22354.,\n",
       "          19528.,   17276.,   14953.,   13230.,   11885.,   10578.,\n",
       "           9509.,    8593.,    7684.,    7126.,    6470.,    5976.,\n",
       "           5576.,    5222.,    4904.,    4478.,    4182.,    3796.,\n",
       "           3714.,    3549.,    3271.,    3101.,    3006.,    2782.,\n",
       "           2678.,    2471.,    2372.,    2280.,    2179.,    2031.,\n",
       "           1950.,   44349.]),\n",
       " array([3.09221724e-09, 2.00000030e-02, 4.00000030e-02, 6.00000029e-02,\n",
       "        8.00000028e-02, 1.00000003e-01, 1.20000003e-01, 1.40000003e-01,\n",
       "        1.60000003e-01, 1.80000003e-01, 2.00000002e-01, 2.20000002e-01,\n",
       "        2.40000002e-01, 2.60000002e-01, 2.80000002e-01, 3.00000002e-01,\n",
       "        3.20000002e-01, 3.40000002e-01, 3.60000002e-01, 3.80000002e-01,\n",
       "        4.00000002e-01, 4.20000002e-01, 4.40000002e-01, 4.60000002e-01,\n",
       "        4.80000002e-01, 5.00000002e-01, 5.20000001e-01, 5.40000001e-01,\n",
       "        5.60000001e-01, 5.80000001e-01, 6.00000001e-01, 6.20000001e-01,\n",
       "        6.40000001e-01, 6.60000001e-01, 6.80000001e-01, 7.00000001e-01,\n",
       "        7.20000001e-01, 7.40000001e-01, 7.60000001e-01, 7.80000001e-01,\n",
       "        8.00000001e-01, 8.20000001e-01, 8.40000000e-01, 8.60000000e-01,\n",
       "        8.80000000e-01, 9.00000000e-01, 9.20000000e-01, 9.40000000e-01,\n",
       "        9.60000000e-01, 9.80000000e-01, 1.00000000e+00]),\n",
       " <a list of 50 Patch objects>)"
      ]
     },
     "execution_count": 12,
     "metadata": {},
     "output_type": "execute_result"
    },
    {
     "data": {
      "image/png": "[encoded data removed]",
      "text/plain": [
       "<Figure size 432x288 with 1 Axes>"
      ]
     },
     "metadata": {
      "needs_background": "light"
     },
     "output_type": "display_data"
    }
   ],
   "source": [
    "plt.hist(data_train['demand'], edgecolor = 'k', bins = 50)"
   ]
  },
  {
   "cell_type": "code",
   "execution_count": 13,
   "metadata": {},
   "outputs": [],
   "source": [
    "data1 = data_train[data_train.demand <= 0.95]\n",
    "train_Y_wo_outlier = data1['demand']\n",
    "train_wo_outlier_num = train_Y_wo_outlier.shape[0]\n",
    "data1 = data1.drop(['demand'] , axis=1)"
   ]
  },
  {
   "cell_type": "code",
   "execution_count": 14,
   "metadata": {},
   "outputs": [],
   "source": [
    "data_train = data1\n",
    "data_test = data[train_num:]"
   ]
  },
  {
   "cell_type": "code",
   "execution_count": 15,
   "metadata": {},
   "outputs": [
    {
     "data": {
      "text/plain": [
       "(4158986, 17)"
      ]
     },
     "execution_count": 15,
     "metadata": {},
     "output_type": "execute_result"
    }
   ],
   "source": [
    "data_train.shape"
   ]
  },
  {
   "cell_type": "code",
   "execution_count": 16,
   "metadata": {},
   "outputs": [
    {
     "data": {
      "text/plain": [
       "(19, 17)"
      ]
     },
     "execution_count": 16,
     "metadata": {},
     "output_type": "execute_result"
    }
   ],
   "source": [
    "data_test.shape"
   ]
  },
  {
   "cell_type": "markdown",
   "metadata": {},
   "source": [
    "### Model : Gradient Boosting Regression"
   ]
  },
  {
   "cell_type": "code",
   "execution_count": 17,
   "metadata": {},
   "outputs": [],
   "source": [
    "# List of features for later use\n",
    "feature_list = list(data_train.columns)\n",
    "\n",
    "features = np.array(data_train)\n",
    "labels = np.array(train_Y_wo_outlier)\n",
    "\n",
    "# Training and Testing Sets\n",
    "from sklearn.model_selection import train_test_split\n",
    "\n",
    "train_features, test_features, train_labels, test_labels = train_test_split(features, labels, \n",
    "                                                                            test_size = 0.25, random_state = 42)"
   ]
  },
  {
   "cell_type": "code",
   "execution_count": 18,
   "metadata": {},
   "outputs": [],
   "source": [
    "gdbt_exp = GradientBoostingRegressor(n_estimators= 100, random_state=42)\n",
    "gdbt_exp.fit(train_features, train_labels);"
   ]
  },
  {
   "cell_type": "markdown",
   "metadata": {},
   "source": [
    "### Use all features run as baseline"
   ]
  },
  {
   "cell_type": "code",
   "execution_count": 20,
   "metadata": {},
   "outputs": [
    {
     "name": "stdout",
     "output_type": "stream",
     "text": [
      "Metrics for GDBT Trained on Data\n",
      "RMSE: 0.1115\n"
     ]
    }
   ],
   "source": [
    "# Make predictions on test data\n",
    "predictions = gdbt_exp.predict(test_features)\n",
    "\n",
    "# Performance metrics\n",
    "rmse_test= (np.sum((predictions - test_labels )**2)/len(test_labels)) ** 0.5\n",
    "\n",
    "print('Metrics for GDBT Trained on Data')\n",
    "print('RMSE:', round(rmse_test, 4))"
   ]
  },
  {
   "cell_type": "markdown",
   "metadata": {},
   "source": [
    "### Feature Selection, use feature importance to sort the importance"
   ]
  },
  {
   "cell_type": "code",
   "execution_count": 19,
   "metadata": {},
   "outputs": [
    {
     "name": "stdout",
     "output_type": "stream",
     "text": [
      "Variable: lat_pca0             Importance: 0.49\n",
      "Variable: lon_pca1             Importance: 0.2\n",
      "Variable: latitude             Importance: 0.09\n",
      "Variable: time                 Importance: 0.06\n",
      "Variable: cluster_n            Importance: 0.05\n",
      "Variable: time_mean            Importance: 0.05\n",
      "Variable: day_cycle            Importance: 0.02\n",
      "Variable: weekday              Importance: 0.01\n",
      "Variable: time_cluster         Importance: 0.01\n",
      "Variable: week_cycle           Importance: 0.01\n",
      "Variable: day                  Importance: 0.0\n",
      "Variable: longitude            Importance: 0.0\n",
      "Variable: hour                 Importance: 0.0\n",
      "Variable: minute               Importance: 0.0\n",
      "Variable: wd_time_multiple     Importance: 0.0\n",
      "Variable: wd_time_division     Importance: 0.0\n",
      "Variable: weekday_mean         Importance: 0.0\n"
     ]
    }
   ],
   "source": [
    "importances = list(gdbt_exp.feature_importances_)\n",
    "feature_importances = [(feature, round(importance, 2)) for feature, importance in zip(feature_list, importances)]\n",
    "\n",
    "# Sort the feature importances\n",
    "feature_importances = sorted(feature_importances, key = lambda x: x[1], reverse = True)\n",
    "[print('Variable: {:20} Importance: {}'.format(*pair)) for pair in feature_importances];"
   ]
  },
  {
   "cell_type": "code",
   "execution_count": 21,
   "metadata": {},
   "outputs": [
    {
     "data": {
      "image/png": "[encoded data removed]",
      "text/plain": [
       "<Figure size 432x288 with 1 Axes>"
      ]
     },
     "metadata": {
      "needs_background": "light"
     },
     "output_type": "display_data"
    }
   ],
   "source": [
    "# list of x locations for plotting\n",
    "x_values = list(range(len(importances)))\n",
    "\n",
    "plt.bar(x_values, importances, orientation = 'vertical', color = 'r', edgecolor = 'k', linewidth = 1.2)\n",
    "\n",
    "plt.xticks(x_values, feature_list, rotation='vertical')\n",
    "plt.ylabel('Importance'); plt.xlabel('Variable'); plt.title('Variable Importances');"
   ]
  },
  {
   "cell_type": "code",
   "execution_count": 22,
   "metadata": {},
   "outputs": [
    {
     "data": {
      "image/png": "[encoded data removed]",
      "text/plain": [
       "<Figure size 432x288 with 1 Axes>"
      ]
     },
     "metadata": {
      "needs_background": "light"
     },
     "output_type": "display_data"
    }
   ],
   "source": [
    "# List of features sorted from most to least important\n",
    "sorted_importances = [importance[1] for importance in feature_importances]\n",
    "sorted_features = [importance[0] for importance in feature_importances]\n",
    "\n",
    "# Cumulative importances\n",
    "cumulative_importances = np.cumsum(sorted_importances)\n",
    "\n",
    "# Make a line graph\n",
    "plt.plot(x_values, cumulative_importances, 'g-')\n",
    "# Draw line at 95% of importance retained\n",
    "plt.hlines(y = 0.95, xmin=0, xmax=len(sorted_importances), color = 'r', linestyles = 'dashed')\n",
    "# Format x ticks and labels\n",
    "plt.xticks(x_values, sorted_features, rotation = 'vertical')\n",
    "# Axis labels and title\n",
    "plt.xlabel('Variable'); plt.ylabel('Cumulative Importance'); plt.title('Cumulative Importances');"
   ]
  },
  {
   "cell_type": "code",
   "execution_count": 23,
   "metadata": {},
   "outputs": [
    {
     "name": "stdout",
     "output_type": "stream",
     "text": [
      "Important train features shape: (3119239, 8)\n",
      "Important test features shape: (1039747, 8)\n"
     ]
    }
   ],
   "source": [
    "# Extract the names of the most important features\n",
    "important_feature_names = [feature[0] for feature in feature_importances[0:8]]\n",
    "\n",
    "important_indices = [feature_list.index(feature) for feature in important_feature_names]\n",
    "\n",
    "# Create training and testing sets with only the important features\n",
    "important_train_features = train_features[:, important_indices]\n",
    "important_test_features = test_features[:, important_indices]\n",
    "\n",
    "# Sanity check on operations\n",
    "print('Important train features shape:', important_train_features.shape)\n",
    "print('Important test features shape:', important_test_features.shape)"
   ]
  },
  {
   "cell_type": "markdown",
   "metadata": {},
   "source": [
    "### Build the Model of important features only to remain stability and reduce execution time"
   ]
  },
  {
   "cell_type": "code",
   "execution_count": 24,
   "metadata": {},
   "outputs": [],
   "source": [
    "# Train the model on only the important features\n",
    "gdbt_exp.fit(important_train_features, train_labels);"
   ]
  },
  {
   "cell_type": "code",
   "execution_count": 25,
   "metadata": {},
   "outputs": [
    {
     "name": "stdout",
     "output_type": "stream",
     "text": [
      "Metrics for GDBT Trained on important feature\n",
      "RMSE: 0.1112\n"
     ]
    }
   ],
   "source": [
    "# Make predictions on Validate data\n",
    "predictions = gdbt_exp.predict(important_test_features)\n",
    "\n",
    "# Performance metrics\n",
    "important_rmse_test= (np.sum((predictions - test_labels )**2)/len(test_labels)) ** 0.5\n",
    "\n",
    "print('Metrics for GDBT Trained on important feature')\n",
    "print('RMSE:', round(important_rmse_test, 4))"
   ]
  },
  {
   "cell_type": "code",
   "execution_count": 26,
   "metadata": {},
   "outputs": [
    {
     "data": {
      "text/plain": [
       "['lat_pca0',\n",
       " 'lon_pca1',\n",
       " 'latitude',\n",
       " 'time',\n",
       " 'cluster_n',\n",
       " 'time_mean',\n",
       " 'day_cycle',\n",
       " 'weekday']"
      ]
     },
     "execution_count": 26,
     "metadata": {},
     "output_type": "execute_result"
    }
   ],
   "source": [
    "important_feature_names"
   ]
  },
  {
   "cell_type": "markdown",
   "metadata": {},
   "source": [
    "### Final: Predict on testing data"
   ]
  },
  {
   "cell_type": "code",
   "execution_count": 30,
   "metadata": {},
   "outputs": [],
   "source": [
    "# Make predictions on test data\n",
    "\n",
    "final_test_features = np.array(data_test)\n",
    "# Create training and testing sets with only the important features\n",
    "final_test_features = final_test_features[:, important_indices]\n",
    "\n",
    "final_predictions = gdbt_exp.predict(final_test_features)"
   ]
  },
  {
   "cell_type": "markdown",
   "metadata": {},
   "source": [
    "## Please kindly help to load demand of testing data"
   ]
  },
  {
   "cell_type": "code",
   "execution_count": null,
   "metadata": {},
   "outputs": [],
   "source": [
    "#Performance metrics\n",
    "### testing_Y = ... help to load demand of testing data as testing_Y\n",
    "final_rmse_test= (np.sum((predictions - testing_Y )**2)/len(testing_Y)) ** 0.5\n",
    "\n",
    "print('Metrics for GDBT on final testing data')\n",
    "print('RMSE:', round(final_rmse_test, 4))"
   ]
  },
  {
   "cell_type": "markdown",
   "metadata": {},
   "source": [
    "### Appendix: Propose to use RandomResearchCV to do parameter tuning\n",
    ">(however, my pc too slow... there is no result of best parameter... only a reference)"
   ]
  },
  {
   "cell_type": "code",
   "execution_count": null,
   "metadata": {},
   "outputs": [],
   "source": [
    "# Extract features and labels\n",
    "labels = train_Y_wo_outlier\n",
    "features = data1\n",
    "\n",
    "# Update feature list for visualizations\n",
    "feature_list = important_feature_names[:]\n",
    "\n",
    "features = features[important_feature_names]"
   ]
  },
  {
   "cell_type": "code",
   "execution_count": 40,
   "metadata": {},
   "outputs": [],
   "source": [
    "# Convert to numpy arrays\n",
    "import numpy as np\n",
    "\n",
    "features = np.array(features)\n",
    "labels = np.array(labels)\n",
    "\n",
    "# Training and Testing Sets\n",
    "from sklearn.model_selection import train_test_split\n",
    "\n",
    "train_features, test_features, train_labels, test_labels = train_test_split(features, labels, \n",
    "                                                                            test_size = 0.25, random_state = 42)"
   ]
  },
  {
   "cell_type": "code",
   "execution_count": 65,
   "metadata": {},
   "outputs": [
    {
     "data": {
      "text/plain": [
       "(3119239, 17)"
      ]
     },
     "execution_count": 65,
     "metadata": {},
     "output_type": "execute_result"
    }
   ],
   "source": [
    "train_features.shape"
   ]
  },
  {
   "cell_type": "code",
   "execution_count": 67,
   "metadata": {},
   "outputs": [
    {
     "data": {
      "text/plain": [
       "1248.8472684840208"
      ]
     },
     "execution_count": 67,
     "metadata": {},
     "output_type": "execute_result"
    }
   ],
   "source": [
    "math.sqrt(3119239/2)"
   ]
  },
  {
   "cell_type": "markdown",
   "metadata": {},
   "source": [
    "### Examine the Default GDBT to Determine Parameters"
   ]
  },
  {
   "cell_type": "code",
   "execution_count": 41,
   "metadata": {},
   "outputs": [
    {
     "name": "stdout",
     "output_type": "stream",
     "text": [
      "Parameters currently in use:\n",
      "\n",
      "{'alpha': 0.9,\n",
      " 'criterion': 'friedman_mse',\n",
      " 'init': None,\n",
      " 'learning_rate': 0.1,\n",
      " 'loss': 'ls',\n",
      " 'max_depth': 3,\n",
      " 'max_features': None,\n",
      " 'max_leaf_nodes': None,\n",
      " 'min_impurity_decrease': 0.0,\n",
      " 'min_impurity_split': None,\n",
      " 'min_samples_leaf': 1,\n",
      " 'min_samples_split': 2,\n",
      " 'min_weight_fraction_leaf': 0.0,\n",
      " 'n_estimators': 100,\n",
      " 'n_iter_no_change': None,\n",
      " 'presort': 'auto',\n",
      " 'random_state': 42,\n",
      " 'subsample': 1.0,\n",
      " 'tol': 0.0001,\n",
      " 'validation_fraction': 0.1,\n",
      " 'verbose': 0,\n",
      " 'warm_start': False}\n"
     ]
    }
   ],
   "source": [
    "from sklearn.ensemble import GradientBoostingRegressor\n",
    "\n",
    "gdbt = GradientBoostingRegressor(random_state = 42)\n",
    "\n",
    "from pprint import pprint\n",
    "\n",
    "# Look at parameters used by our current forest\n",
    "print('Parameters currently in use:\\n')\n",
    "pprint(gdbt.get_params())"
   ]
  },
  {
   "cell_type": "code",
   "execution_count": 42,
   "metadata": {},
   "outputs": [
    {
     "name": "stdout",
     "output_type": "stream",
     "text": [
      "{'learning_rate': [0.1, 0.05, 0.02],\n",
      " 'max_depth': [10, 20, 30, 40, 50, 60, 70, 80, 90, 100, 110, None],\n",
      " 'min_samples_leaf': [1, 2, 4],\n",
      " 'min_samples_split': [2, 5, 10],\n",
      " 'n_estimators': [50, 100, 150, 200, 250, 300, 350, 400, 450, 500]}\n"
     ]
    }
   ],
   "source": [
    "from sklearn.model_selection import RandomizedSearchCV\n",
    "\n",
    "# Number of trees in GDBT\n",
    "n_estimators = [int(x) for x in np.linspace(start = 100, stop = 1000, num = 10)]\n",
    "\n",
    "learning_rate = [0.1,0.05,0.02]\n",
    "# Maximum number of levels in tree\n",
    "max_depth = [int(x) for x in np.linspace(10, 110, num = 11)]\n",
    "max_depth.append(None)\n",
    "# Minimum number of samples required to split a node\n",
    "min_samples_split = [2, 5, 10]\n",
    "# Minimum number of samples required at each leaf node\n",
    "min_samples_leaf = [1, 2, 4]\n",
    "\n",
    "# Create the random gridke\n",
    "random_grid = {'n_estimators': n_estimators,\n",
    "               'learning_rate': learning_rate,\n",
    "               'max_depth': max_depth,\n",
    "               'min_samples_split': min_samples_split,\n",
    "               'min_samples_leaf': min_samples_leaf}\n",
    "              # 'bootstrap': bootstrap}\n",
    "\n",
    "pprint(random_grid)"
   ]
  },
  {
   "cell_type": "code",
   "execution_count": null,
   "metadata": {},
   "outputs": [
    {
     "name": "stdout",
     "output_type": "stream",
     "text": [
      "Fitting 3 folds for each of 3 candidates, totalling 9 fits\n",
      "[CV] n_estimators=250, min_samples_split=10, min_samples_leaf=1, max_depth=None, learning_rate=0.02 \n"
     ]
    },
    {
     "name": "stderr",
     "output_type": "stream",
     "text": [
      "[Parallel(n_jobs=1)]: Using backend SequentialBackend with 1 concurrent workers.\n"
     ]
    }
   ],
   "source": [
    "# Use the random grid to search for best hyperparameters\n",
    "# First create the base model to tune\n",
    "gdbt= GradientBoostingRegressor(random_state = 42)\n",
    "# Random search of parameters, using 3 fold cross validation, \n",
    "\n",
    "#search across 100 different combinations, and use all available cores\n",
    "gdbt_random = RandomizedSearchCV(estimator=gdbt, param_distributions=random_grid,\n",
    "                              n_iter = 100, scoring='neg_mean_absolute_error', \n",
    "                              cv = 3, verbose=2, random_state=42, n_jobs=-1,\n",
    "                              return_train_score=True)\n",
    "# Fit the random search model\n",
    "gdbt_random.fit(train_features, train_labels)\n"
   ]
  },
  {
   "cell_type": "code",
   "execution_count": null,
   "metadata": {},
   "outputs": [],
   "source": [
    "gdbt_random.best_params_"
   ]
  },
  {
   "cell_type": "code",
   "execution_count": null,
   "metadata": {},
   "outputs": [],
   "source": []
  }
 ],
 "metadata": {
  "kernelspec": {
   "display_name": "Python 3",
   "language": "python",
   "name": "python3"
  },
  "language_info": {
   "codemirror_mode": {
    "name": "ipython",
    "version": 3
   },
   "file_extension": ".py",
   "mimetype": "text/x-python",
   "name": "python",
   "nbconvert_exporter": "python",
   "pygments_lexer": "ipython3",
   "version": "3.7.1"
  }
 },
 "nbformat": 4,
 "nbformat_minor": 2
}
